{
 "cells": [
  {
   "cell_type": "code",
   "execution_count": 46,
   "id": "bc595f8e",
   "metadata": {},
   "outputs": [],
   "source": [
    "import numpy as np #import package numpy and named it as np\n",
    "import pandas as pd\n",
    "from sklearn.ensemble import RandomForestClassifier \n",
    "# import the function RandomForestClassifier of a subpackage name ensemble from sklern\n",
    "from sklearn.model_selection import train_test_split\n",
    "from sklearn.metrics import accuracy_score as acc\n",
    "from mlxtend.feature_selection import SequentialFeatureSelector as sfs\n",
    "import os\n"
   ]
  },
  {
   "cell_type": "code",
   "execution_count": 47,
   "id": "c59cf747",
   "metadata": {},
   "outputs": [],
   "source": [
    "npath=os.path.abspath(os.pardir)+\"/Data/winequality_white.csv\"\n",
    "df = pd.read_csv(npath, sep=';') #read data winequality_white.csv\n"
   ]
  },
  {
   "cell_type": "code",
   "execution_count": 48,
   "id": "3404848a",
   "metadata": {},
   "outputs": [],
   "source": [
    "df1=df.describe() #describe the data and write the result in csv\n",
    "dpath=os.path.abspath(os.pardir)+\"/Results/Description.csv\"\n",
    "df1.to_csv(dpath)"
   ]
  },
  {
   "cell_type": "code",
   "execution_count": 49,
   "id": "820bff74",
   "metadata": {},
   "outputs": [],
   "source": [
    "X_train, X_test, y_train, y_test = train_test_split(\n",
    "    df.values[:,:-1],\n",
    "    df.values[:,-1:],\n",
    "    test_size=0.25,\n",
    "    random_state=42) \n",
    "#split the data set, train is 75% while test is 25%"
   ]
  },
  {
   "cell_type": "code",
   "execution_count": 50,
   "id": "a366031f",
   "metadata": {},
   "outputs": [],
   "source": [
    "y_train = y_train.ravel() #take the y_train value as array\n",
    "y_test = y_test.ravel()\n"
   ]
  },
  {
   "cell_type": "code",
   "execution_count": 51,
   "id": "14e3e155",
   "metadata": {},
   "outputs": [
    {
     "name": "stdout",
     "output_type": "stream",
     "text": [
      "Training dataset shape: (3673, 11) (3673,)\n",
      "Testing dataset shape: (1225, 11) (1225,)\n"
     ]
    }
   ],
   "source": [
    "print('Training dataset shape:', X_train.shape, y_train.shape)\n",
    "print('Testing dataset shape:', X_test.shape, y_test.shape)"
   ]
  },
  {
   "cell_type": "code",
   "execution_count": 52,
   "id": "17e98eb0",
   "metadata": {},
   "outputs": [],
   "source": [
    "#print out the training data shape, for x, it contains 3673 observations and 11 characteristics, \n",
    "#for y, it contains 3673 observation"
   ]
  },
  {
   "cell_type": "code",
   "execution_count": 53,
   "id": "55292f52",
   "metadata": {},
   "outputs": [],
   "source": [
    "clf = RandomForestClassifier(n_estimators=100, n_jobs=-1)\n",
    "#Build RF classifier name it as clf to use in feature selection\n",
    "#n_estimatores is the number of decision tree\n",
    "#n_jobs is the number of Central Processing Unit, -1 means use all the cpus"
   ]
  },
  {
   "cell_type": "code",
   "execution_count": 54,
   "id": "b27c5ab1",
   "metadata": {},
   "outputs": [],
   "source": [
    "sfs1 = sfs(clf,\n",
    "           k_features=5,\n",
    "           forward=True,\n",
    "           floating=False,\n",
    "           verbose=2,\n",
    "           scoring='accuracy',\n",
    "           cv=5)\n"
   ]
  },
  {
   "cell_type": "code",
   "execution_count": 55,
   "id": "e881147e",
   "metadata": {},
   "outputs": [],
   "source": [
    "# Build step forward feature selection.\n",
    "# clf:the classifier is clf\n",
    "# k_features:number of feature is 5\n",
    "# forward=true: use a forward selection methods\n",
    "# floating=false: don't use floating slection methods\n",
    "# the degree of verbose is 2\n",
    "# the scoring methos is accuracy\n",
    "# the number ofdesireds folds of cross-validation is 5"
   ]
  },
  {
   "cell_type": "code",
   "execution_count": 64,
   "id": "56324a61",
   "metadata": {},
   "outputs": [
    {
     "name": "stderr",
     "output_type": "stream",
     "text": [
      "[Parallel(n_jobs=1)]: Using backend SequentialBackend with 1 concurrent workers.\n",
      "[Parallel(n_jobs=1)]: Done   1 out of   1 | elapsed:    0.3s remaining:    0.0s\n",
      "[Parallel(n_jobs=1)]: Done  11 out of  11 | elapsed:    3.7s finished\n",
      "\n",
      "[2023-02-18 15:59:03] Features: 1/5 -- score: 0.4941396504105729[Parallel(n_jobs=1)]: Using backend SequentialBackend with 1 concurrent workers.\n",
      "[Parallel(n_jobs=1)]: Done   1 out of   1 | elapsed:    0.4s remaining:    0.0s\n",
      "[Parallel(n_jobs=1)]: Done  10 out of  10 | elapsed:    4.4s finished\n",
      "\n",
      "[2023-02-18 15:59:07] Features: 2/5 -- score: 0.5447904502400416[Parallel(n_jobs=1)]: Using backend SequentialBackend with 1 concurrent workers.\n",
      "[Parallel(n_jobs=1)]: Done   1 out of   1 | elapsed:    0.5s remaining:    0.0s\n",
      "[Parallel(n_jobs=1)]: Done   9 out of   9 | elapsed:    4.2s finished\n",
      "\n",
      "[2023-02-18 15:59:11] Features: 3/5 -- score: 0.6038614246788634[Parallel(n_jobs=1)]: Using backend SequentialBackend with 1 concurrent workers.\n",
      "[Parallel(n_jobs=1)]: Done   1 out of   1 | elapsed:    0.5s remaining:    0.0s\n",
      "[Parallel(n_jobs=1)]: Done   8 out of   8 | elapsed:    4.3s finished\n",
      "\n",
      "[2023-02-18 15:59:15] Features: 4/5 -- score: 0.6261862129047804[Parallel(n_jobs=1)]: Using backend SequentialBackend with 1 concurrent workers.\n",
      "[Parallel(n_jobs=1)]: Done   1 out of   1 | elapsed:    0.5s remaining:    0.0s\n",
      "[Parallel(n_jobs=1)]: Done   7 out of   7 | elapsed:    3.8s finished\n",
      "\n",
      "[2023-02-18 15:59:19] Features: 5/5 -- score: 0.6384340766279264"
     ]
    }
   ],
   "source": [
    "# Perform SFFS\n",
    "sfs1 = sfs1.fit(X_train, y_train)"
   ]
  },
  {
   "cell_type": "code",
   "execution_count": 65,
   "id": "ff46a8d8",
   "metadata": {},
   "outputs": [
    {
     "name": "stdout",
     "output_type": "stream",
     "text": [
      "[1, 2, 5, 7, 10]\n"
     ]
    }
   ],
   "source": [
    "feat_cols = list(sfs1.k_feature_idx_)\n",
    "print(feat_cols)\n",
    "\n",
    "# present the best 5 feature that get highest score"
   ]
  },
  {
   "cell_type": "code",
   "execution_count": null,
   "id": "da6bcf24",
   "metadata": {},
   "outputs": [],
   "source": [
    "# I run the sff several times, the fearture scores are different each time. so they present different best feature."
   ]
  },
  {
   "cell_type": "code",
   "execution_count": 66,
   "id": "d9eb9be2",
   "metadata": {},
   "outputs": [
    {
     "data": {
      "text/plain": [
       "RandomForestClassifier(max_depth=4, n_estimators=1000, random_state=42)"
      ]
     },
     "execution_count": 66,
     "metadata": {},
     "output_type": "execute_result"
    }
   ],
   "source": [
    "# Build full model with selected features\n",
    "clf = RandomForestClassifier(n_estimators=1000, random_state=42, max_depth=4)\n",
    "clf.fit(X_train[:, feat_cols], y_train)"
   ]
  },
  {
   "cell_type": "code",
   "execution_count": 67,
   "id": "b52b294e",
   "metadata": {},
   "outputs": [
    {
     "name": "stdout",
     "output_type": "stream",
     "text": [
      "Training accuracy on selected features: 0.559\n",
      "Testing accuracy on selected features: 0.518\n"
     ]
    }
   ],
   "source": [
    "y_train_pred = clf.predict(X_train[:, feat_cols])\n",
    "print('Training accuracy on selected features: %.3f' % acc(y_train, y_train_pred))\n",
    "\n",
    "y_test_pred = clf.predict(X_test[:, feat_cols])\n",
    "print('Testing accuracy on selected features: %.3f' % acc(y_test, y_test_pred))"
   ]
  },
  {
   "cell_type": "code",
   "execution_count": null,
   "id": "7da1faf1",
   "metadata": {},
   "outputs": [],
   "source": [
    "#the accuracy change as i run a different sff."
   ]
  },
  {
   "cell_type": "code",
   "execution_count": 68,
   "id": "46104e5d",
   "metadata": {},
   "outputs": [
    {
     "data": {
      "text/plain": [
       "RandomForestClassifier(max_depth=4, n_estimators=1000, random_state=42)"
      ]
     },
     "execution_count": 68,
     "metadata": {},
     "output_type": "execute_result"
    }
   ],
   "source": [
    "# Build full model on ALL features, for comparison\n",
    "clf = RandomForestClassifier(n_estimators=1000, random_state=42, max_depth=4)\n",
    "clf.fit(X_train, y_train)\n"
   ]
  },
  {
   "cell_type": "code",
   "execution_count": null,
   "id": "173ba2ee",
   "metadata": {},
   "outputs": [],
   "source": []
  },
  {
   "cell_type": "code",
   "execution_count": 69,
   "id": "a77b1740",
   "metadata": {},
   "outputs": [
    {
     "name": "stdout",
     "output_type": "stream",
     "text": [
      "Training accuracy on all features: 0.566\n",
      "Testing accuracy on all features: 0.509\n"
     ]
    }
   ],
   "source": [
    "y_train_pred = clf.predict(X_train)\n",
    "print('Training accuracy on all features: %.3f' % acc(y_train, y_train_pred))\n",
    "\n",
    "y_test_pred = clf.predict(X_test)\n",
    "print('Testing accuracy on all features: %.3f' % acc(y_test, y_test_pred))"
   ]
  },
  {
   "cell_type": "code",
   "execution_count": null,
   "id": "717ca675",
   "metadata": {},
   "outputs": [],
   "source": []
  }
 ],
 "metadata": {
  "kernelspec": {
   "display_name": "Python 3 (ipykernel)",
   "language": "python",
   "name": "python3"
  },
  "language_info": {
   "codemirror_mode": {
    "name": "ipython",
    "version": 3
   },
   "file_extension": ".py",
   "mimetype": "text/x-python",
   "name": "python",
   "nbconvert_exporter": "python",
   "pygments_lexer": "ipython3",
   "version": "3.9.16"
  }
 },
 "nbformat": 4,
 "nbformat_minor": 5
}
